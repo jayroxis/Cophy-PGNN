{
 "cells": [
  {
   "cell_type": "code",
   "execution_count": 1,
   "metadata": {},
   "outputs": [],
   "source": [
    "import os\n",
    "import torch\n",
    "import sys\n",
    "\n",
    "sys.path.append('../../scripts')\n",
    "from config_plots import global_settings\n",
    "global_settings()\n",
    "\n",
    "import matplotlib\n",
    "import matplotlib.pyplot as plt"
   ]
  },
  {
   "cell_type": "code",
   "execution_count": 7,
   "metadata": {},
   "outputs": [],
   "source": [
    "basedir = \"/home/elhamod/projects/jiesRepo/Cophy-PGNN/eval_saved/electromagnetic/models\"\n",
    "models = {\n",
    "    'Analogue': '0x575808717bbd1e5b.pt', # PGNN-Analogue\n",
    "    'CoPhy': '0x49583cf87637eb8.pt', #Cophy-PGNN\n",
    "    'BB': '-0x544ff2c934fa5926.pt' #DNN\n",
    "}\n",
    "\n",
    "tensor_name = \"overlapIntegral.pt\" #EigenError.pt\n",
    "\n",
    "\n",
    "#output\n",
    "folder_name = \"../../figures\" \n",
    "fileNameOutput = \"Histogram_of_\"+tensor_name+\".pdf\""
   ]
  },
  {
   "cell_type": "code",
   "execution_count": 3,
   "metadata": {},
   "outputs": [],
   "source": [
    "def getLegendFormName(name):\n",
    "    legend = 'NN'\n",
    "    if name == 'CoPhy':\n",
    "        legend = r'\\emph{CoPhy}-PGNN'\n",
    "    if name == 'Analogue':\n",
    "        legend = r'PGNN-\\emph{analogue}'\n",
    "    return legend\n",
    "\n",
    "def getAxisName(tensor_name):\n",
    "#     if tensor_name == 'overlapIntegral.pt':\n",
    "    legend = r'Overlap Integral'\n",
    "    if legend == 'EigenError.pt':\n",
    "        legend = r'Relative Eigenequation Error'\n",
    "    return legend\n"
   ]
  },
  {
   "cell_type": "code",
   "execution_count": 4,
   "metadata": {},
   "outputs": [],
   "source": [
    "tensors = None\n",
    "labels = []\n",
    "for model_name in models:\n",
    "    t = torch.load(os.path.join(basedir, models[model_name]+\"_tensors\", tensor_name)).view(1, -1)\n",
    "    if tensors is None:\n",
    "        tensors = t\n",
    "    else:\n",
    "        tensors = torch.cat([tensors, t], dim = 0)\n",
    "    labels = labels + [getLegendFormName(model_name)]"
   ]
  },
  {
   "cell_type": "code",
   "execution_count": 5,
   "metadata": {},
   "outputs": [
    {
     "data": {
      "text/plain": [
       "<matplotlib.legend.Legend at 0x7fa8fdaf6f60>"
      ]
     },
     "execution_count": 5,
     "metadata": {},
     "output_type": "execute_result"
    },
    {
     "name": "stderr",
     "output_type": "stream",
     "text": [
      "findfont: Font family ['serif'] not found. Falling back to DejaVu Sans.\n"
     ]
    },
    {
     "data": {
      "image/png": "[encoded data removed]",
      "text/plain": [
       "<Figure size 432x288 with 1 Axes>"
      ]
     },
     "metadata": {
      "needs_background": "light"
     },
     "output_type": "display_data"
    }
   ],
   "source": [
    "fig, ax = plt.subplots(nrows=1, ncols=1)\n",
    "ax.hist(tensors, density=False, bins=25, label=labels) \n",
    "plt.ylabel('Count')\n",
    "plt.xlabel(getAxisName(tensor_name));\n",
    "plt.legend()"
   ]
  },
  {
   "cell_type": "code",
   "execution_count": 8,
   "metadata": {},
   "outputs": [],
   "source": [
    "fig.savefig(os.path.join(folder_name, fileNameOutput), bbox_inches='tight')"
   ]
  },
  {
   "cell_type": "code",
   "execution_count": null,
   "metadata": {},
   "outputs": [],
   "source": []
  }
 ],
 "metadata": {
  "kernelspec": {
   "display_name": "Python 3",
   "language": "python",
   "name": "python3"
  },
  "language_info": {
   "codemirror_mode": {
    "name": "ipython",
    "version": 3
   },
   "file_extension": ".py",
   "mimetype": "text/x-python",
   "name": "python",
   "nbconvert_exporter": "python",
   "pygments_lexer": "ipython3",
   "version": "3.6.9"
  }
 },
 "nbformat": 4,
 "nbformat_minor": 4
}
