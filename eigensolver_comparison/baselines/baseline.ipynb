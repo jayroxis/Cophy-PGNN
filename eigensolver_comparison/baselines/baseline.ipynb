{
 "cells": [
  {
   "cell_type": "code",
   "execution_count": 1,
   "metadata": {},
   "outputs": [],
   "source": [
    "trainSize = \"2000examples_400x400complex.mat\" \n",
    "\n",
    "dataset=\"test\" #\"val\", \"train\" \"test\"\n",
    "\n",
    "model_name_bb = '/home/elhamod/projects/jiesRepo/Cophy-PGNN/eval_saved/electromagnetic/models/-0x544ff2c934fa5926.pt' #DNN\n",
    "model_name_cophy = '/home/elhamod/projects/jiesRepo/Cophy-PGNN/eval_saved/electromagnetic/models/0x49583cf87637eb8.pt' #Cophy-PGNN\n",
    "model_name_analogue = '/home/elhamod/projects/jiesRepo/Cophy-PGNN/eval_saved/electromagnetic/models/0x575808717bbd1e5b.pt' #PGNN-Analogue"
   ]
  },
  {
   "cell_type": "code",
   "execution_count": 2,
   "metadata": {},
   "outputs": [],
   "source": [
    "# NN parameters\n",
    "depth=2\n",
    "hidden=100\n",
    "out = 804\n",
    "in_ = 10\n",
    "\n",
    "smallest_eigen_val = False"
   ]
  },
  {
   "cell_type": "code",
   "execution_count": 3,
   "metadata": {},
   "outputs": [],
   "source": [
    "import time\n",
    "import torch\n",
    "import numpy as np\n",
    "import pandas as pd\n",
    "\n",
    "import sys\n",
    "sys.path.append('../../scripts')\n",
    "sys.path.append('../')\n",
    "\n",
    "from util.solvers import *\n",
    "from util.utils import eval_all\n",
    "from data_loader_electromagnetic import DatasetLoader\n",
    "import torch.nn.functional as f\n",
    "\n",
    "sys.path.append('Cophy-PGNN/')\n",
    "from DNN import DNN\n",
    "\n",
    "import os\n",
    "sys.path.append(os.path.abspath('../../loss_surface_vis'))\n",
    "from helper_electromagnetic import getOverlapIntegral, getEigError"
   ]
  },
  {
   "cell_type": "code",
   "execution_count": 4,
   "metadata": {},
   "outputs": [],
   "source": [
    "torch.cuda.set_device(2)\n",
    "device = torch.device('cuda:2')"
   ]
  },
  {
   "cell_type": "code",
   "execution_count": 5,
   "metadata": {},
   "outputs": [],
   "source": [
    "class Electromagnetic_dataset(object):\n",
    "    def __init__(self, dataset=\"test\"):\n",
    "        data = DatasetLoader(\n",
    "            train_size=trainSize, #,\n",
    "            data_path='//raid/elhamod/Eignedecomposition/Electromagnetic/electromagnetic_dualphase', \n",
    "        )\n",
    "        \n",
    "        # normalization\n",
    "        data.normalization(x=False, y=False)\n",
    "        \n",
    "        self.input_=data.X_test if dataset==\"test\" else (data.X_val if dataset==\"val\" else data.X_train)\n",
    "        self.true_=data.y_test if dataset==\"test\" else (data.y_val if dataset==\"val\" else data.y_train)\n",
    "        H=data.H_test_origin if dataset==\"test\" else (data.H_val_origin if dataset==\"val\" else data.H_train_origin)\n",
    "        H_complex_width = int(H.shape[1]/2)\n",
    "        \n",
    "        H_real = H[:, :H_complex_width, :H_complex_width]\n",
    "        H_img = H[:, H_complex_width:, :H_complex_width]\n",
    "        H_complex = torch.stack([H_real, H_img]).permute(1, 2, 3, 0).contiguous().numpy()\n",
    "        self.H = H_complex[:, :, :, 0] + 1j*H_complex[:, :, :, 1]\n",
    "        self.H_expanded = H\n",
    "\n",
    "        self.data = data\n",
    "        self.cnt=0\n",
    "       \n",
    "    def count(self):\n",
    "        return self.H.shape[0]\n",
    "        \n",
    "    def get(self):\n",
    "        cnt = self.cnt\n",
    "        self.cnt = self.cnt+1\n",
    "        return self.input_[cnt, :], self.H[cnt,:,:]"
   ]
  },
  {
   "cell_type": "code",
   "execution_count": 6,
   "metadata": {},
   "outputs": [
    {
     "name": "stderr",
     "output_type": "stream",
     "text": [
      "../../scripts/data_loader_electromagnetic.py:134: UserWarning: To copy construct from a tensor, it is recommended to use sourceTensor.clone().detach() or sourceTensor.clone().detach().requires_grad_(True), rather than torch.tensor(sourceTensor).\n",
      "  self.y_train_origin = torch.tensor(self.y_train).float()\n",
      "../../scripts/data_loader_electromagnetic.py:135: UserWarning: To copy construct from a tensor, it is recommended to use sourceTensor.clone().detach() or sourceTensor.clone().detach().requires_grad_(True), rather than torch.tensor(sourceTensor).\n",
      "  self.y_val_origin = torch.tensor(self.y_val).float()\n",
      "../../scripts/data_loader_electromagnetic.py:136: UserWarning: To copy construct from a tensor, it is recommended to use sourceTensor.clone().detach() or sourceTensor.clone().detach().requires_grad_(True), rather than torch.tensor(sourceTensor).\n",
      "  self.y_test_origin = torch.tensor(self.y_test).float()\n"
     ]
    }
   ],
   "source": [
    "dataset = Electromagnetic_dataset(dataset = dataset)"
   ]
  },
  {
   "cell_type": "code",
   "execution_count": 7,
   "metadata": {},
   "outputs": [],
   "source": [
    "# ======================= PyTorch ========================  \n",
    "\n",
    "\n",
    "class CophyPGNN(EigenSolver):\n",
    "    def __init__(self, model_name):\n",
    "        super().__init__()\n",
    "        \n",
    "        with torch.no_grad(): \n",
    "            model_gpu = DNN(in_, hidden, out, depth, act=torch.nn.Tanh)\n",
    "            model_gpu.load_state_dict(torch.load(model_name, map_location=device)) \n",
    "            model_gpu = model_gpu.double().cuda()\n",
    "            model_gpu.eval()\n",
    "            \n",
    "        self.solvers = {\n",
    "            'cophy-pgnn_cuda.'+model_name: model_gpu,\n",
    "        }\n",
    "    \n",
    "    def run(self, m, sort=True):\n",
    "        m,h = m\n",
    "\n",
    "        results = self.init_dict()\n",
    "        runtime = self.init_dict()\n",
    "        errors = self.init_dict()\n",
    "        \n",
    "        for name in self.solvers:\n",
    "            solver = self.solvers[name]\n",
    "            elapse = 0\n",
    "\n",
    "                        \n",
    "            if 'cuda' in name:\n",
    "                device = torch.device('cuda')\n",
    "            else:\n",
    "                device = torch.device('cpu')\n",
    "            \n",
    "            \n",
    "            # solve and record runtime\n",
    "            m = torch.tensor(m, dtype=torch.double).cuda(device)\n",
    "            start = time.process_time()             # start\n",
    "            with torch.no_grad():\n",
    "                result = solver(m).detach().cpu().numpy()\n",
    "            elapse += time.process_time() - start   # end\n",
    "        \n",
    "            val = result[-2:]\n",
    "            vec = result[:-2]\n",
    "\n",
    "            # post-exec sort results\n",
    "            val = val[0] + 1j*val[1]\n",
    "            \n",
    "            V_complex_width = int(vec.shape[0]/2)\n",
    "            vec = vec[:V_complex_width] + 1j*vec[V_complex_width:]\n",
    "            \n",
    "            # record\n",
    "            runtime[name] = elapse\n",
    "            results[name] = (val, vec)\n",
    "            \n",
    "            errors[name] = np.linalg.norm(h @ vec - 2*2*np.pi*np.pi*val*val * vec)/np.linalg.norm(h @ vec)\n",
    "            \n",
    "            \n",
    "            n = np.linalg.norm(vec)\n",
    "            \n",
    "        return runtime, n, errors, results\n",
    "    \n",
    "    \n"
   ]
  },
  {
   "cell_type": "code",
   "execution_count": 8,
   "metadata": {},
   "outputs": [
    {
     "name": "stderr",
     "output_type": "stream",
     "text": [
      "100%|██████████| 1629/1629 [29:56<00:00,  1.10s/it]\n"
     ]
    }
   ],
   "source": [
    "solvers = [CophyPGNN(model_name_bb), CophyPGNN(model_name_cophy), CophyPGNN(model_name_analogue), NumpySolvers(smallest_eigen = smallest_eigen_val),  ScipySolvers(smallest_eigen = smallest_eigen_val)]\n",
    "df, norms, predicted_vecs_all, predicted_vals_all= eval_all(dataset, solvers)"
   ]
  },
  {
   "cell_type": "code",
   "execution_count": 9,
   "metadata": {},
   "outputs": [],
   "source": [
    "overlap_int = {}\n",
    "eigen_error= {}\n",
    "\n",
    "true_reformatted = dataset.true_[:, :-2]\n",
    "\n",
    "for solver in predicted_vecs_all:\n",
    "    predicted_vecs_all_real = predicted_vecs_all[solver].real\n",
    "    predicted_vecs_all_imag = predicted_vecs_all[solver].imag\n",
    "    prediction_reformatted = torch.cat((torch.tensor(predicted_vecs_all_real), torch.tensor(predicted_vecs_all_imag)), 1)\n",
    "    \n",
    "    predicted_vals_all_real = predicted_vals_all[solver].real\n",
    "    predicted_vals_all_imag = predicted_vals_all[solver].imag\n",
    "    prediction_reformatted_vals = torch.cat((torch.tensor(predicted_vals_all_real).view(-1,1), torch.tensor(predicted_vals_all_imag).view(-1,1)), 1)\n",
    "    \n",
    "    true_reformatted_normalized = f.normalize(true_reformatted, p=2, dim=1)\n",
    "    prediction_reformatted_normalized = f.normalize(prediction_reformatted, p=2, dim=1)\n",
    "    \n",
    "    average_overlapInt = sum(getOverlapIntegral(prediction_reformatted_normalized, true_reformatted_normalized))/predicted_vecs_all[solver].shape[0]\n",
    "    overlap_int[solver] = average_overlapInt\n",
    "    \n",
    "df2 = pd.DataFrame.from_dict(overlap_int, orient='index')\n",
    "df['overlap_int'] = df2"
   ]
  },
  {
   "cell_type": "code",
   "execution_count": 10,
   "metadata": {},
   "outputs": [
    {
     "data": {
      "text/html": [
       "<div>\n",
       "<style scoped>\n",
       "    .dataframe tbody tr th:only-of-type {\n",
       "        vertical-align: middle;\n",
       "    }\n",
       "\n",
       "    .dataframe tbody tr th {\n",
       "        vertical-align: top;\n",
       "    }\n",
       "\n",
       "    .dataframe thead th {\n",
       "        text-align: right;\n",
       "    }\n",
       "</style>\n",
       "<table border=\"1\" class=\"dataframe\">\n",
       "  <thead>\n",
       "    <tr style=\"text-align: right;\">\n",
       "      <th></th>\n",
       "      <th>avg time</th>\n",
       "      <th>avg eigen error</th>\n",
       "      <th>overlap_int</th>\n",
       "    </tr>\n",
       "  </thead>\n",
       "  <tbody>\n",
       "    <tr>\n",
       "      <th>cophy-pgnn_cuda./home/elhamod/projects/jiesRepo/Cophy-PGNN/eval_saved/electromagnetic/models/-0x544ff2c934fa5926.pt</th>\n",
       "      <td>0.041552</td>\n",
       "      <td>7.205025e-01</td>\n",
       "      <td>0.579846</td>\n",
       "    </tr>\n",
       "    <tr>\n",
       "      <th>cophy-pgnn_cuda./home/elhamod/projects/jiesRepo/Cophy-PGNN/eval_saved/electromagnetic/models/0x49583cf87637eb8.pt</th>\n",
       "      <td>0.032158</td>\n",
       "      <td>1.308940e-01</td>\n",
       "      <td>0.645425</td>\n",
       "    </tr>\n",
       "    <tr>\n",
       "      <th>cophy-pgnn_cuda./home/elhamod/projects/jiesRepo/Cophy-PGNN/eval_saved/electromagnetic/models/0x575808717bbd1e5b.pt</th>\n",
       "      <td>0.030694</td>\n",
       "      <td>1.980061e+00</td>\n",
       "      <td>0.616318</td>\n",
       "    </tr>\n",
       "    <tr>\n",
       "      <th>numpy_eig</th>\n",
       "      <td>35.819889</td>\n",
       "      <td>1.465940e-07</td>\n",
       "      <td>0.999999</td>\n",
       "    </tr>\n",
       "    <tr>\n",
       "      <th>scipy_eig</th>\n",
       "      <td>33.707246</td>\n",
       "      <td>2.620192e-05</td>\n",
       "      <td>0.982211</td>\n",
       "    </tr>\n",
       "  </tbody>\n",
       "</table>\n",
       "</div>"
      ],
      "text/plain": [
       "                                                     avg time  \\\n",
       "cophy-pgnn_cuda./home/elhamod/projects/jiesRepo...   0.041552   \n",
       "cophy-pgnn_cuda./home/elhamod/projects/jiesRepo...   0.032158   \n",
       "cophy-pgnn_cuda./home/elhamod/projects/jiesRepo...   0.030694   \n",
       "numpy_eig                                           35.819889   \n",
       "scipy_eig                                           33.707246   \n",
       "\n",
       "                                                    avg eigen error  \\\n",
       "cophy-pgnn_cuda./home/elhamod/projects/jiesRepo...     7.205025e-01   \n",
       "cophy-pgnn_cuda./home/elhamod/projects/jiesRepo...     1.308940e-01   \n",
       "cophy-pgnn_cuda./home/elhamod/projects/jiesRepo...     1.980061e+00   \n",
       "numpy_eig                                              1.465940e-07   \n",
       "scipy_eig                                              2.620192e-05   \n",
       "\n",
       "                                                    overlap_int  \n",
       "cophy-pgnn_cuda./home/elhamod/projects/jiesRepo...     0.579846  \n",
       "cophy-pgnn_cuda./home/elhamod/projects/jiesRepo...     0.645425  \n",
       "cophy-pgnn_cuda./home/elhamod/projects/jiesRepo...     0.616318  \n",
       "numpy_eig                                              0.999999  \n",
       "scipy_eig                                              0.982211  "
      ]
     },
     "execution_count": 10,
     "metadata": {},
     "output_type": "execute_result"
    }
   ],
   "source": [
    "df"
   ]
  },
  {
   "cell_type": "code",
   "execution_count": 11,
   "metadata": {},
   "outputs": [],
   "source": [
    "df.to_csv(\"results/stats.csv\")"
   ]
  }
 ],
 "metadata": {
  "kernelspec": {
   "display_name": "Python 3",
   "language": "python",
   "name": "python3"
  },
  "language_info": {
   "codemirror_mode": {
    "name": "ipython",
    "version": 3
   },
   "file_extension": ".py",
   "mimetype": "text/x-python",
   "name": "python",
   "nbconvert_exporter": "python",
   "pygments_lexer": "ipython3",
   "version": "3.6.9"
  }
 },
 "nbformat": 4,
 "nbformat_minor": 4
}
