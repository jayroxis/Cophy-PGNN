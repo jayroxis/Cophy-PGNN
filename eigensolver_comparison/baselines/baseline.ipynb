{
 "cells": [
  {
   "cell_type": "code",
   "execution_count": 1,
   "metadata": {},
   "outputs": [],
   "source": [
    "trainSize = \"2000examples_400x400complex.mat\"  #Other datasets ['dataShort.mat', 'data1000.mat', 'dataFull.mat']\n",
    "\n",
    "model_name = 'Cophy-PGNN/pretrained/CoPhy.pt'"
   ]
  },
  {
   "cell_type": "code",
   "execution_count": 2,
   "metadata": {},
   "outputs": [],
   "source": [
    "# parameters\n",
    "depth=2\n",
    "hidden=100\n",
    "out = 804\n",
    "in_ = 10"
   ]
  },
  {
   "cell_type": "code",
   "execution_count": 3,
   "metadata": {},
   "outputs": [],
   "source": [
    "import time\n",
    "import torch\n",
    "import random\n",
    "import numpy as np\n",
    "import pandas as pd\n",
    "import matplotlib\n",
    "\n",
    "import sys\n",
    "sys.path.append('../../scripts')\n",
    "sys.path.append('../')\n",
    "\n",
    "from util.solvers import *\n",
    "from util.utils import eval_all\n",
    "from data_loader_electromagnetic import DatasetLoader\n",
    "\n",
    "sys.path.append('Cophy-PGNN/')\n",
    "from DNN import DNN"
   ]
  },
  {
   "cell_type": "code",
   "execution_count": 4,
   "metadata": {},
   "outputs": [],
   "source": [
    "torch.cuda.set_device(6)\n",
    "device = torch.device('cuda:6')"
   ]
  },
  {
   "cell_type": "code",
   "execution_count": 5,
   "metadata": {},
   "outputs": [],
   "source": [
    "class Electromagnetic_dataset(object):\n",
    "    def __init__(self):\n",
    "        data = DatasetLoader(\n",
    "            train_size=trainSize, #,\n",
    "            data_path='//home/elhamod/CoPhy-PGNN/CoPhy-PGNN/datasets/electromagnetic_dualphase', \n",
    "        )\n",
    "        \n",
    "        # normalization\n",
    "        data.normalization(x=False, y=False)\n",
    "        \n",
    "        self.input_=data.X_test\n",
    "        H=data.H_test_origin\n",
    "        H_complex_width = int(H.shape[1]/2)\n",
    "        \n",
    "        H_real = H[:, :H_complex_width, :H_complex_width]\n",
    "        H_img = H[:, H_complex_width:, :H_complex_width]\n",
    "        H_complex = torch.stack([H_real, H_img]).permute(1, 2, 3, 0).contiguous().numpy()\n",
    "        self.H = H_complex[:, :, :, 0] + 1j*H_complex[:, :, :, 1]\n",
    "\n",
    "        self.data = data\n",
    "        self.cnt=0\n",
    "       \n",
    "    def count(self):\n",
    "        return self.H.shape[0]\n",
    "        \n",
    "    def get(self):\n",
    "        cnt = self.cnt\n",
    "        self.cnt = self.cnt+1\n",
    "        return self.input_[cnt, :], self.H[cnt,:,:]\n",
    "    \n",
    "\n",
    "\n",
    "# ======================= PyTorch ========================  \n",
    "\n",
    "\n",
    "class CophyPGNN(EigenSolver):\n",
    "    def __init__(self):\n",
    "        super().__init__()\n",
    "        \n",
    "        with torch.no_grad(): \n",
    "            model_gpu = DNN(in_, hidden, out, depth, act=torch.nn.Tanh)\n",
    "            model_gpu.load_state_dict(torch.load(model_name)) \n",
    "            model_gpu = model_gpu.double().cuda()\n",
    "            model_gpu.eval()\n",
    "            \n",
    "        self.solvers = {\n",
    "            'cophy-pgnn_cuda': model_gpu,\n",
    "        }\n",
    "    \n",
    "    def run(self, m, sort=True):\n",
    "        m,h = m\n",
    "\n",
    "        results = self.init_dict()\n",
    "        runtime = self.init_dict()\n",
    "        errors = self.init_dict()\n",
    "        \n",
    "        for name in self.solvers:\n",
    "            solver = self.solvers[name]\n",
    "            elapse = 0\n",
    "\n",
    "                        \n",
    "            if 'cuda' in name:\n",
    "                device = torch.device('cuda')\n",
    "            else:\n",
    "                device = torch.device('cpu')\n",
    "            \n",
    "            \n",
    "            # solve and record runtime\n",
    "            m = torch.tensor(m, dtype=torch.double).cuda(device)\n",
    "            start = time.process_time()             # start\n",
    "            with torch.no_grad():\n",
    "                result = solver(m).detach().cpu().numpy()\n",
    "            elapse += time.process_time() - start   # end\n",
    "        \n",
    "            val = result[-2:]\n",
    "            vec = result[:-2]\n",
    "\n",
    "            # post-exec sort results\n",
    "            val = val[0] + 1j*val[1]\n",
    "            \n",
    "            V_complex_width = int(vec.shape[0]/2)\n",
    "            vec = vec[:V_complex_width] + 1j*vec[V_complex_width:]\n",
    "            \n",
    "            # record\n",
    "            runtime[name] = elapse\n",
    "            results[name] = (val, vec)\n",
    "            errors[name] = np.mean(np.abs(h @ vec - val * vec))\n",
    "            n = np.linalg.norm(vec)\n",
    "            \n",
    "        return runtime, n, errors\n",
    "    \n",
    "    \n"
   ]
  },
  {
   "cell_type": "code",
   "execution_count": 6,
   "metadata": {},
   "outputs": [
    {
     "name": "stderr",
     "output_type": "stream",
     "text": [
      "../../scripts/data_loader_electromagnetic.py:134: UserWarning: To copy construct from a tensor, it is recommended to use sourceTensor.clone().detach() or sourceTensor.clone().detach().requires_grad_(True), rather than torch.tensor(sourceTensor).\n",
      "  self.y_train_origin = torch.tensor(self.y_train).float()\n",
      "../../scripts/data_loader_electromagnetic.py:135: UserWarning: To copy construct from a tensor, it is recommended to use sourceTensor.clone().detach() or sourceTensor.clone().detach().requires_grad_(True), rather than torch.tensor(sourceTensor).\n",
      "  self.y_val_origin = torch.tensor(self.y_val).float()\n",
      "../../scripts/data_loader_electromagnetic.py:136: UserWarning: To copy construct from a tensor, it is recommended to use sourceTensor.clone().detach() or sourceTensor.clone().detach().requires_grad_(True), rather than torch.tensor(sourceTensor).\n",
      "  self.y_test_origin = torch.tensor(self.y_test).float()\n"
     ]
    }
   ],
   "source": [
    "dataset = Electromagnetic_dataset()"
   ]
  },
  {
   "cell_type": "code",
   "execution_count": 7,
   "metadata": {
    "scrolled": false
   },
   "outputs": [
    {
     "name": "stderr",
     "output_type": "stream",
     "text": [
      "100%|██████████| 1629/1629 [39:00<00:00,  1.44s/it]\n"
     ]
    }
   ],
   "source": [
    "solvers = [CophyPGNN(), NumpySolvers(), TorchSolvers(), ScipySolvers(), ScipySparse()] # \n",
    "df , norms= eval_all(dataset, solvers)\n",
    "\n",
    "\n",
    "df.to_csv(\"results/stats.csv\")\n"
   ]
  },
  {
   "cell_type": "code",
   "execution_count": 8,
   "metadata": {},
   "outputs": [
    {
     "data": {
      "text/html": [
       "<div>\n",
       "<style scoped>\n",
       "    .dataframe tbody tr th:only-of-type {\n",
       "        vertical-align: middle;\n",
       "    }\n",
       "\n",
       "    .dataframe tbody tr th {\n",
       "        vertical-align: top;\n",
       "    }\n",
       "\n",
       "    .dataframe thead th {\n",
       "        text-align: right;\n",
       "    }\n",
       "</style>\n",
       "<table border=\"1\" class=\"dataframe\">\n",
       "  <thead>\n",
       "    <tr style=\"text-align: right;\">\n",
       "      <th></th>\n",
       "      <th>avg time</th>\n",
       "      <th>avg L1 error</th>\n",
       "    </tr>\n",
       "  </thead>\n",
       "  <tbody>\n",
       "    <tr>\n",
       "      <th>cophy-pgnn_cuda</th>\n",
       "      <td>0.037299</td>\n",
       "      <td>1.878558e+02</td>\n",
       "    </tr>\n",
       "    <tr>\n",
       "      <th>numpy_eig</th>\n",
       "      <td>31.221107</td>\n",
       "      <td>7.714403e-06</td>\n",
       "    </tr>\n",
       "    <tr>\n",
       "      <th>torch_cuda</th>\n",
       "      <td>13.891261</td>\n",
       "      <td>6.821139e-13</td>\n",
       "    </tr>\n",
       "    <tr>\n",
       "      <th>scipy_eig</th>\n",
       "      <td>29.998622</td>\n",
       "      <td>7.538649e-04</td>\n",
       "    </tr>\n",
       "    <tr>\n",
       "      <th>scipy_sparse_eig</th>\n",
       "      <td>0.956335</td>\n",
       "      <td>4.418413e-03</td>\n",
       "    </tr>\n",
       "  </tbody>\n",
       "</table>\n",
       "</div>"
      ],
      "text/plain": [
       "                   avg time  avg L1 error\n",
       "cophy-pgnn_cuda    0.037299  1.878558e+02\n",
       "numpy_eig         31.221107  7.714403e-06\n",
       "torch_cuda        13.891261  6.821139e-13\n",
       "scipy_eig         29.998622  7.538649e-04\n",
       "scipy_sparse_eig   0.956335  4.418413e-03"
      ]
     },
     "execution_count": 8,
     "metadata": {},
     "output_type": "execute_result"
    }
   ],
   "source": [
    "df"
   ]
  },
  {
   "cell_type": "code",
   "execution_count": null,
   "metadata": {},
   "outputs": [],
   "source": []
  }
 ],
 "metadata": {
  "kernelspec": {
   "display_name": "Python 3",
   "language": "python",
   "name": "python3"
  },
  "language_info": {
   "codemirror_mode": {
    "name": "ipython",
    "version": 3
   },
   "file_extension": ".py",
   "mimetype": "text/x-python",
   "name": "python",
   "nbconvert_exporter": "python",
   "pygments_lexer": "ipython3",
   "version": "3.6.9"
  }
 },
 "nbformat": 4,
 "nbformat_minor": 4
}
