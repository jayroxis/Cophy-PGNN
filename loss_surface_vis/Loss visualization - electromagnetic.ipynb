{
 "cells": [
  {
   "cell_type": "markdown",
   "metadata": {},
   "source": [
    "Import libraries"
   ]
  },
  {
   "cell_type": "code",
   "execution_count": 1,
   "metadata": {},
   "outputs": [],
   "source": [
    "import torch\n",
    "torch.cuda.set_device(1)\n",
    "device = torch.device('cuda:1')"
   ]
  },
  {
   "cell_type": "code",
   "execution_count": 2,
   "metadata": {},
   "outputs": [],
   "source": [
    "dataPath = '//home/elhamod/CoPhy-PGNN/CoPhy-PGNN/datasets/electromagnetic_dualphase'\n",
    "folder_name = \"/home/elhamod/jiesRepo/Cophy-PGNN/eval_saved/electromagnetic\" # Directury where results are\n",
    "trainingCount= '2000examples_400x400complex.mat' #['dataShort.mat', 'data1000.mat', 'dataFull.mat']\n",
    "\n",
    "# A dictionary of the name of the model and its type\n",
    "names=[\n",
    "    {\"name\":\"BB\", \"type\":\"NN\"},\n",
    "    {\"name\":\"CoPhy\", \"type\":\"cNSE-NNex\"},\n",
    "]\n",
    "\n",
    "\n",
    "in_band=[1];\n",
    "out_of_band=[4,9,16];"
   ]
  },
  {
   "cell_type": "code",
   "execution_count": 3,
   "metadata": {},
   "outputs": [],
   "source": [
    "import torch\n",
    "import matplotlib.pyplot as plt\n",
    "import numpy as np\n",
    "import sys\n",
    "import ntpath\n",
    "\n",
    "sys.path.append('../scripts/')\n",
    "from data_loader_electromagnetic import DatasetLoader\n",
    "from presets import LambdaSearch\n",
    "from parse_results import parse_results\n",
    "\n",
    "from config_plots import global_settings\n",
    "global_settings()\n",
    "import warnings\n",
    "warnings.filterwarnings(\"ignore\")"
   ]
  },
  {
   "cell_type": "markdown",
   "metadata": {},
   "source": [
    "Cuda"
   ]
  },
  {
   "cell_type": "code",
   "execution_count": 4,
   "metadata": {},
   "outputs": [
    {
     "name": "stdout",
     "output_type": "stream",
     "text": [
      "cpu\n"
     ]
    }
   ],
   "source": [
    "device = torch.device('cpu')\n",
    "print(device)"
   ]
  },
  {
   "cell_type": "code",
   "execution_count": 5,
   "metadata": {},
   "outputs": [],
   "source": [
    "def fix_path(dir_, path):\n",
    "    fixed = os.path.relpath(path, '../')\n",
    "    return os.path.join(dir_, fixed)\n",
    "\n",
    "def find_model(name, train_size, target_dir=\"\"):\n",
    "    result_list = glob.glob(target_dir + '*.txt')\n",
    "    if len(result_list):\n",
    "        results = []\n",
    "        for file in result_list:\n",
    "            d = parse_results(file)\n",
    "            if d['name'] == name and d[\"params\"][\"data_params\"][\"train_size\"] == train_size:\n",
    "                results.append(d)\n",
    "        return results\n",
    "    else:\n",
    "        raise RuntimeError(\n",
    "            \"No txt file find under the directory. Please use os.chdir(TARGET DIR) before use it, or specify target_dir parameter.\"\n",
    "        )\n"
   ]
  },
  {
   "cell_type": "markdown",
   "metadata": {},
   "source": [
    "Hyper parameters"
   ]
  },
  {
   "cell_type": "code",
   "execution_count": 6,
   "metadata": {},
   "outputs": [],
   "source": [
    "# Model parameters\n",
    "param_presets = LambdaSearch(data_path=dataPath)\n",
    "param = param_presets.DNN()\n",
    "H =  100\n",
    "Depth = 2"
   ]
  },
  {
   "cell_type": "markdown",
   "metadata": {},
   "source": [
    "Load data"
   ]
  },
  {
   "cell_type": "code",
   "execution_count": 7,
   "metadata": {},
   "outputs": [],
   "source": [
    "datasetLoader = DatasetLoader(data_path=dataPath, train_size=trainingCount)\n",
    "datasetLoader.normalization(x=True, y=False)\n",
    "datasetLoader.torch_tensor(device=device)\n",
    "\n",
    "X_train = datasetLoader.X_train_tensor\n",
    "X_val = datasetLoader.X_val_tensor\n",
    "X_test = datasetLoader.X_test_tensor\n",
    "y_train = datasetLoader.y_train_tensor\n",
    "y_val = datasetLoader.y_val_tensor\n",
    "y_test = datasetLoader.y_test_tensor\n",
    "X_scale = datasetLoader.X_scale_tensor\n",
    "X_mean = datasetLoader.X_mean_tensor\n",
    "y_scale = datasetLoader.y_scale_tensor\n",
    "y_mean = datasetLoader.y_mean_tensor\n",
    "X_trainOrigin = datasetLoader.X_train_origin\n",
    "X_valOrigin = datasetLoader.X_val_origin\n",
    "X_testOrigin = datasetLoader.X_test_origin\n",
    "\n",
    "trainingMag = X_trainOrigin[:, 0]\n",
    "testMag = X_testOrigin[:, 0]\n"
   ]
  },
  {
   "cell_type": "markdown",
   "metadata": {},
   "source": [
    "Load model"
   ]
  },
  {
   "cell_type": "code",
   "execution_count": 8,
   "metadata": {},
   "outputs": [],
   "source": [
    "from DNN import DNN\n",
    "import glob\n",
    "import os\n",
    "import pandas as pd\n",
    "import re\n",
    "from helper_electromagnetic import getBxVsCosineSimilarity, getFittedData, GetStatistics, PlotHelper\n",
    "import glob\n",
    "\n",
    "Bx_vs_cosineSimilarity_mean_list = []\n",
    "Bx_vs_cosineSimilarity_std_list = []\n",
    "test_x = np.array(in_band + out_of_band)\n",
    "\n",
    "D_in  = datasetLoader.x_dim\n",
    "D_out = datasetLoader.y_dim\n",
    "\n",
    "for name in names:\n",
    "    DNN_type = name['type']\n",
    "    name = name['name']\n",
    "    \n",
    "    model_files = find_model(name, trainingCount, folder_name+\"/results/\")\n",
    "    \n",
    "    fileList = list(map(lambda x: os.path.join(folder_name, 'models',ntpath.basename(x[\"model_path\"])), model_files)) #glob.glob(folder_name+DNN_type+\"/*.pt\")\n",
    "\n",
    "    Bx_vs_cosineSimilarity_list = list()\n",
    "    for file in fileList:\n",
    "        model_final = DNN(D_in, H, D_out, Depth).to(device)\n",
    "\n",
    "        model_final.load_state_dict(torch.load(file, map_location='cpu'))\n",
    "\n",
    "        Bx_vs_cosineSimilarity = getBxVsCosineSimilarity(testMag, model_final(X_test), y_test)\n",
    "        Bx_vs_cosineSimilarity_list.append(getFittedData(Bx_vs_cosineSimilarity, test_x))\n",
    "\n",
    "    (Bx_vs_cosineSimilarity_mean, Bx_vs_cosineSimilarity_std) = GetStatistics(testMag, Bx_vs_cosineSimilarity_list)\n",
    "    Bx_vs_cosineSimilarity_mean_list.append(Bx_vs_cosineSimilarity_mean)\n",
    "    Bx_vs_cosineSimilarity_std_list.append(Bx_vs_cosineSimilarity_std)\n"
   ]
  },
  {
   "cell_type": "markdown",
   "metadata": {},
   "source": [
    "Plot Cosine similarity"
   ]
  },
  {
   "cell_type": "code",
   "execution_count": 9,
   "metadata": {
    "scrolled": false
   },
   "outputs": [
    {
     "name": "stderr",
     "output_type": "stream",
     "text": [
      "findfont: Font family ['serif'] not found. Falling back to DejaVu Sans.\n"
     ]
    },
    {
     "data": {
      "image/png": "[encoded data removed]",
      "text/plain": [
       "<Figure size 432x288 with 1 Axes>"
      ]
     },
     "metadata": {
      "needs_background": "light"
     },
     "output_type": "display_data"
    }
   ],
   "source": [
    "%matplotlib inline \n",
    "\n",
    "prettyPlot = PlotHelper(\"Test data Cosine Similarity vs. Permittivity of First Layer\", \" Permittivity of First Layer\",\"Cosine Similarity\", xticks=test_x, line_location=(in_band[-1] + out_of_band[0])/2)\n",
    "for i, name in enumerate(names):\n",
    "    prettyPlot.updatePlotXYSTD(test_x, Bx_vs_cosineSimilarity_mean_list[i], Bx_vs_cosineSimilarity_std_list[i], name['name'], i)"
   ]
  },
  {
   "cell_type": "code",
   "execution_count": 10,
   "metadata": {},
   "outputs": [],
   "source": [
    "prettyPlot.fig.savefig(os.path.join(folder_name, \"CosineSimilarity.pdf\"), bbox_inches='tight')"
   ]
  },
  {
   "cell_type": "code",
   "execution_count": null,
   "metadata": {},
   "outputs": [],
   "source": []
  }
 ],
 "metadata": {
  "kernelspec": {
   "display_name": "Python 3",
   "language": "python",
   "name": "python3"
  },
  "language_info": {
   "codemirror_mode": {
    "name": "ipython",
    "version": 3
   },
   "file_extension": ".py",
   "mimetype": "text/x-python",
   "name": "python",
   "nbconvert_exporter": "python",
   "pygments_lexer": "ipython3",
   "version": "3.6.9"
  }
 },
 "nbformat": 4,
 "nbformat_minor": 2
}
